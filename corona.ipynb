{
 "cells": [
  {
   "cell_type": "markdown",
   "id": "8ba15f55",
   "metadata": {},
   "source": [
    "# importation"
   ]
  },
  {
   "cell_type": "code",
   "execution_count": 1,
   "id": "66858f2b",
   "metadata": {},
   "outputs": [],
   "source": [
    "import numpy as np\n",
    "import matplotlib.pyplot as plt\n",
    "import seaborn as sns\n",
    "import pandas as pd"
   ]
  },
  {
   "cell_type": "code",
   "execution_count": 2,
   "id": "1e8a387c",
   "metadata": {},
   "outputs": [
    {
     "name": "stdout",
     "output_type": "stream",
     "text": [
      "<bound method NDFrame.head of            Patient ID  Patient age quantile SARS-Cov-2 exam result  \\\n",
      "0     44477f75e8169d2                    13               negative   \n",
      "1     126e9dd13932f68                    17               negative   \n",
      "2     a46b4402a0e5696                     8               negative   \n",
      "3     f7d619a94f97c45                     5               negative   \n",
      "4     d9e41465789c2b5                    15               negative   \n",
      "...               ...                   ...                    ...   \n",
      "5639  ae66feb9e4dc3a0                     3               positive   \n",
      "5640  517c2834024f3ea                    17               negative   \n",
      "5641  5c57d6037fe266d                     4               negative   \n",
      "5642  c20c44766f28291                    10               negative   \n",
      "5643  2697fdccbfeb7f7                    19               positive   \n",
      "\n",
      "      Patient addmited to regular ward (1=yes, 0=no)  \\\n",
      "0                                                  0   \n",
      "1                                                  0   \n",
      "2                                                  0   \n",
      "3                                                  0   \n",
      "4                                                  0   \n",
      "...                                              ...   \n",
      "5639                                               0   \n",
      "5640                                               0   \n",
      "5641                                               0   \n",
      "5642                                               0   \n",
      "5643                                               0   \n",
      "\n",
      "      Patient addmited to semi-intensive unit (1=yes, 0=no)  \\\n",
      "0                                                     0       \n",
      "1                                                     0       \n",
      "2                                                     0       \n",
      "3                                                     0       \n",
      "4                                                     0       \n",
      "...                                                 ...       \n",
      "5639                                                  0       \n",
      "5640                                                  0       \n",
      "5641                                                  0       \n",
      "5642                                                  0       \n",
      "5643                                                  0       \n",
      "\n",
      "      Patient addmited to intensive care unit (1=yes, 0=no)  Hematocrit  \\\n",
      "0                                                     0             NaN   \n",
      "1                                                     0        0.236515   \n",
      "2                                                     0             NaN   \n",
      "3                                                     0             NaN   \n",
      "4                                                     0             NaN   \n",
      "...                                                 ...             ...   \n",
      "5639                                                  0             NaN   \n",
      "5640                                                  0             NaN   \n",
      "5641                                                  0             NaN   \n",
      "5642                                                  0             NaN   \n",
      "5643                                                  0        0.694287   \n",
      "\n",
      "      Hemoglobin  Platelets  Mean platelet volume   ...  \\\n",
      "0            NaN        NaN                    NaN  ...   \n",
      "1      -0.022340  -0.517413               0.010677  ...   \n",
      "2            NaN        NaN                    NaN  ...   \n",
      "3            NaN        NaN                    NaN  ...   \n",
      "4            NaN        NaN                    NaN  ...   \n",
      "...          ...        ...                    ...  ...   \n",
      "5639         NaN        NaN                    NaN  ...   \n",
      "5640         NaN        NaN                    NaN  ...   \n",
      "5641         NaN        NaN                    NaN  ...   \n",
      "5642         NaN        NaN                    NaN  ...   \n",
      "5643    0.541564  -0.906829              -0.325903  ...   \n",
      "\n",
      "      Hb saturation (arterial blood gases)  \\\n",
      "0                                      NaN   \n",
      "1                                      NaN   \n",
      "2                                      NaN   \n",
      "3                                      NaN   \n",
      "4                                      NaN   \n",
      "...                                    ...   \n",
      "5639                                   NaN   \n",
      "5640                                   NaN   \n",
      "5641                                   NaN   \n",
      "5642                                   NaN   \n",
      "5643                                   NaN   \n",
      "\n",
      "      pCO2 (arterial blood gas analysis)  \\\n",
      "0                                    NaN   \n",
      "1                                    NaN   \n",
      "2                                    NaN   \n",
      "3                                    NaN   \n",
      "4                                    NaN   \n",
      "...                                  ...   \n",
      "5639                                 NaN   \n",
      "5640                                 NaN   \n",
      "5641                                 NaN   \n",
      "5642                                 NaN   \n",
      "5643                                 NaN   \n",
      "\n",
      "      Base excess (arterial blood gas analysis)  \\\n",
      "0                                           NaN   \n",
      "1                                           NaN   \n",
      "2                                           NaN   \n",
      "3                                           NaN   \n",
      "4                                           NaN   \n",
      "...                                         ...   \n",
      "5639                                        NaN   \n",
      "5640                                        NaN   \n",
      "5641                                        NaN   \n",
      "5642                                        NaN   \n",
      "5643                                        NaN   \n",
      "\n",
      "      pH (arterial blood gas analysis)  \\\n",
      "0                                  NaN   \n",
      "1                                  NaN   \n",
      "2                                  NaN   \n",
      "3                                  NaN   \n",
      "4                                  NaN   \n",
      "...                                ...   \n",
      "5639                               NaN   \n",
      "5640                               NaN   \n",
      "5641                               NaN   \n",
      "5642                               NaN   \n",
      "5643                               NaN   \n",
      "\n",
      "      Total CO2 (arterial blood gas analysis)  \\\n",
      "0                                         NaN   \n",
      "1                                         NaN   \n",
      "2                                         NaN   \n",
      "3                                         NaN   \n",
      "4                                         NaN   \n",
      "...                                       ...   \n",
      "5639                                      NaN   \n",
      "5640                                      NaN   \n",
      "5641                                      NaN   \n",
      "5642                                      NaN   \n",
      "5643                                      NaN   \n",
      "\n",
      "      HCO3 (arterial blood gas analysis)  pO2 (arterial blood gas analysis)  \\\n",
      "0                                    NaN                                NaN   \n",
      "1                                    NaN                                NaN   \n",
      "2                                    NaN                                NaN   \n",
      "3                                    NaN                                NaN   \n",
      "4                                    NaN                                NaN   \n",
      "...                                  ...                                ...   \n",
      "5639                                 NaN                                NaN   \n",
      "5640                                 NaN                                NaN   \n",
      "5641                                 NaN                                NaN   \n",
      "5642                                 NaN                                NaN   \n",
      "5643                                 NaN                                NaN   \n",
      "\n",
      "      Arteiral Fio2  Phosphor  ctO2 (arterial blood gas analysis)  \n",
      "0               NaN       NaN                                 NaN  \n",
      "1               NaN       NaN                                 NaN  \n",
      "2               NaN       NaN                                 NaN  \n",
      "3               NaN       NaN                                 NaN  \n",
      "4               NaN       NaN                                 NaN  \n",
      "...             ...       ...                                 ...  \n",
      "5639            NaN       NaN                                 NaN  \n",
      "5640            NaN       NaN                                 NaN  \n",
      "5641            NaN       NaN                                 NaN  \n",
      "5642            NaN       NaN                                 NaN  \n",
      "5643            NaN       NaN                                 NaN  \n",
      "\n",
      "[5644 rows x 111 columns]>\n"
     ]
    }
   ],
   "source": [
    "df = pd.read_excel('corona/dataset.xlsx')\n",
    "print(df.head)"
   ]
  },
  {
   "cell_type": "code",
   "execution_count": 3,
   "id": "bcac7344",
   "metadata": {},
   "outputs": [
    {
     "name": "stdout",
     "output_type": "stream",
     "text": [
      "(5644, 111)\n"
     ]
    }
   ],
   "source": [
    "print(df.shape)"
   ]
  },
  {
   "cell_type": "code",
   "execution_count": 4,
   "id": "ae23475c",
   "metadata": {},
   "outputs": [
    {
     "name": "stdout",
     "output_type": "stream",
     "text": [
      "True\n",
      "1.0\n"
     ]
    }
   ],
   "source": [
    "print(df.isnull().values.any())\n",
    "print(df.isnull().values.any().mean())"
   ]
  },
  {
   "cell_type": "code",
   "execution_count": 5,
   "id": "8a9f1a3c",
   "metadata": {},
   "outputs": [
    {
     "name": "stdout",
     "output_type": "stream",
     "text": [
      "(5644, 39)\n",
      "        Patient ID  Patient age quantile SARS-Cov-2 exam result  \\\n",
      "0  44477f75e8169d2                    13               negative   \n",
      "1  126e9dd13932f68                    17               negative   \n",
      "2  a46b4402a0e5696                     8               negative   \n",
      "3  f7d619a94f97c45                     5               negative   \n",
      "4  d9e41465789c2b5                    15               negative   \n",
      "\n",
      "   Patient addmited to regular ward (1=yes, 0=no)  \\\n",
      "0                                               0   \n",
      "1                                               0   \n",
      "2                                               0   \n",
      "3                                               0   \n",
      "4                                               0   \n",
      "\n",
      "   Patient addmited to semi-intensive unit (1=yes, 0=no)  \\\n",
      "0                                                  0       \n",
      "1                                                  0       \n",
      "2                                                  0       \n",
      "3                                                  0       \n",
      "4                                                  0       \n",
      "\n",
      "   Patient addmited to intensive care unit (1=yes, 0=no)  Hematocrit  \\\n",
      "0                                                  0             NaN   \n",
      "1                                                  0        0.236515   \n",
      "2                                                  0             NaN   \n",
      "3                                                  0             NaN   \n",
      "4                                                  0             NaN   \n",
      "\n",
      "   Hemoglobin  Platelets  Mean platelet volume   ...    Adenovirus  \\\n",
      "0         NaN        NaN                    NaN  ...           NaN   \n",
      "1    -0.02234  -0.517413               0.010677  ...  not_detected   \n",
      "2         NaN        NaN                    NaN  ...           NaN   \n",
      "3         NaN        NaN                    NaN  ...           NaN   \n",
      "4         NaN        NaN                    NaN  ...  not_detected   \n",
      "\n",
      "   Parainfluenza 4  Coronavirus229E  CoronavirusOC43  Inf A H1N1 2009  \\\n",
      "0              NaN              NaN              NaN              NaN   \n",
      "1     not_detected     not_detected     not_detected     not_detected   \n",
      "2              NaN              NaN              NaN              NaN   \n",
      "3              NaN              NaN              NaN              NaN   \n",
      "4     not_detected     not_detected     not_detected     not_detected   \n",
      "\n",
      "   Bordetella pertussis  Metapneumovirus  Parainfluenza 2  \\\n",
      "0                   NaN              NaN              NaN   \n",
      "1          not_detected     not_detected     not_detected   \n",
      "2                   NaN              NaN              NaN   \n",
      "3                   NaN              NaN              NaN   \n",
      "4          not_detected     not_detected     not_detected   \n",
      "\n",
      "   Influenza B, rapid test  Influenza A, rapid test  \n",
      "0                      NaN                      NaN  \n",
      "1                 negative                 negative  \n",
      "2                      NaN                      NaN  \n",
      "3                      NaN                      NaN  \n",
      "4                      NaN                      NaN  \n",
      "\n",
      "[5 rows x 39 columns]\n"
     ]
    }
   ],
   "source": [
    "df1 = df.loc[:, df.isnull().mean()<.9]\n",
    "print(df1.shape)\n",
    "print(df1.head())"
   ]
  },
  {
   "cell_type": "code",
   "execution_count": 6,
   "id": "0c2d6a75",
   "metadata": {},
   "outputs": [
    {
     "data": {
      "text/plain": [
       "<seaborn.axisgrid.FacetGrid at 0x7fdcfe56b670>"
      ]
     },
     "execution_count": 6,
     "metadata": {},
     "output_type": "execute_result"
    },
    {
     "data": {
      "image/png": "[encoded data removed]",
      "text/plain": [
       "<Figure size 360x360 with 1 Axes>"
      ]
     },
     "metadata": {
      "needs_background": "light"
     },
     "output_type": "display_data"
    },
    {
     "data": {
      "image/png": "[encoded data removed]",
      "text/plain": [
       "<Figure size 360x360 with 1 Axes>"
      ]
     },
     "metadata": {
      "needs_background": "light"
     },
     "output_type": "display_data"
    },
    {
     "data": {
      "image/png": "[encoded data removed]",
      "text/plain": [
       "<Figure size 360x360 with 1 Axes>"
      ]
     },
     "metadata": {
      "needs_background": "light"
     },
     "output_type": "display_data"
    },
    {
     "data": {
      "image/png": "[encoded data removed]",
      "text/plain": [
       "<Figure size 360x360 with 1 Axes>"
      ]
     },
     "metadata": {
      "needs_background": "light"
     },
     "output_type": "display_data"
    }
   ],
   "source": [
    "sns.catplot(x='SARS-Cov-2 exam result', y='Patient age quantile', data=df1)\n",
    "sns.catplot(x='Patient addmited to regular ward (1=yes, 0=no)', y='Patient age quantile', data= df1)\n",
    "sns.catplot(x='Patient addmited to semi-intensive unit (1=yes, 0=no)', y='Patient age quantile', data=df1)\n",
    "sns.catplot(x='Patient addmited to intensive care unit (1=yes, 0=no)', y='Patient age quantile', data=df1)"
   ]
  },
  {
   "cell_type": "code",
   "execution_count": 7,
   "id": "598f326e",
   "metadata": {},
   "outputs": [
    {
     "name": "stdout",
     "output_type": "stream",
     "text": [
      "<bound method NDFrame.head of       Patient age quantile  Hemoglobin  Red blood Cells  \\\n",
      "0                       13         NaN              NaN   \n",
      "1                       17   -0.022340         0.102004   \n",
      "2                        8         NaN              NaN   \n",
      "3                        5         NaN              NaN   \n",
      "4                       15         NaN              NaN   \n",
      "...                    ...         ...              ...   \n",
      "5639                     3         NaN              NaN   \n",
      "5640                    17         NaN              NaN   \n",
      "5641                     4         NaN              NaN   \n",
      "5642                    10         NaN              NaN   \n",
      "5643                    19    0.541564         0.578024   \n",
      "\n",
      "      Mean corpuscular hemoglobin concentration (MCHC)  Leukocytes  \\\n",
      "0                                                  NaN         NaN   \n",
      "1                                            -0.950790   -0.094610   \n",
      "2                                                  NaN         NaN   \n",
      "3                                                  NaN         NaN   \n",
      "4                                                  NaN         NaN   \n",
      "...                                                ...         ...   \n",
      "5639                                               NaN         NaN   \n",
      "5640                                               NaN         NaN   \n",
      "5641                                               NaN         NaN   \n",
      "5642                                               NaN         NaN   \n",
      "5643                                         -0.353319   -1.288428   \n",
      "\n",
      "      Mean corpuscular hemoglobin (MCH)  Eosinophils  \\\n",
      "0                                   NaN          NaN   \n",
      "1                             -0.292269     1.482158   \n",
      "2                                   NaN          NaN   \n",
      "3                                   NaN          NaN   \n",
      "4                                   NaN          NaN   \n",
      "...                                 ...          ...   \n",
      "5639                                NaN          NaN   \n",
      "5640                                NaN          NaN   \n",
      "5641                                NaN          NaN   \n",
      "5642                                NaN          NaN   \n",
      "5643                          -0.135455    -0.835508   \n",
      "\n",
      "      Mean corpuscular volume (MCV)  Monocytes  \\\n",
      "0                               NaN        NaN   \n",
      "1                          0.166192   0.357547   \n",
      "2                               NaN        NaN   \n",
      "3                               NaN        NaN   \n",
      "4                               NaN        NaN   \n",
      "...                             ...        ...   \n",
      "5639                            NaN        NaN   \n",
      "5640                            NaN        NaN   \n",
      "5641                            NaN        NaN   \n",
      "5642                            NaN        NaN   \n",
      "5643                       0.025985   0.567652   \n",
      "\n",
      "      Red blood cell distribution width (RDW)  ... Chlamydophila pneumoniae  \\\n",
      "0                                         NaN  ...                      NaN   \n",
      "1                                   -0.625073  ...             not_detected   \n",
      "2                                         NaN  ...                      NaN   \n",
      "3                                         NaN  ...                      NaN   \n",
      "4                                         NaN  ...             not_detected   \n",
      "...                                       ...  ...                      ...   \n",
      "5639                                      NaN  ...                      NaN   \n",
      "5640                                      NaN  ...                      NaN   \n",
      "5641                                      NaN  ...                      NaN   \n",
      "5642                                      NaN  ...                      NaN   \n",
      "5643                                -0.182790  ...                      NaN   \n",
      "\n",
      "        Adenovirus Parainfluenza 4 Coronavirus229E CoronavirusOC43  \\\n",
      "0              NaN             NaN             NaN             NaN   \n",
      "1     not_detected    not_detected    not_detected    not_detected   \n",
      "2              NaN             NaN             NaN             NaN   \n",
      "3              NaN             NaN             NaN             NaN   \n",
      "4     not_detected    not_detected    not_detected    not_detected   \n",
      "...            ...             ...             ...             ...   \n",
      "5639           NaN             NaN             NaN             NaN   \n",
      "5640           NaN             NaN             NaN             NaN   \n",
      "5641           NaN             NaN             NaN             NaN   \n",
      "5642           NaN             NaN             NaN             NaN   \n",
      "5643           NaN             NaN             NaN             NaN   \n",
      "\n",
      "     Inf A H1N1 2009 Bordetella pertussis Metapneumovirus Parainfluenza 2  \\\n",
      "0                NaN                  NaN             NaN             NaN   \n",
      "1       not_detected         not_detected    not_detected    not_detected   \n",
      "2                NaN                  NaN             NaN             NaN   \n",
      "3                NaN                  NaN             NaN             NaN   \n",
      "4       not_detected         not_detected    not_detected    not_detected   \n",
      "...              ...                  ...             ...             ...   \n",
      "5639             NaN                  NaN             NaN             NaN   \n",
      "5640             NaN                  NaN             NaN             NaN   \n",
      "5641             NaN                  NaN             NaN             NaN   \n",
      "5642             NaN                  NaN             NaN             NaN   \n",
      "5643             NaN                  NaN             NaN             NaN   \n",
      "\n",
      "     Influenza A, rapid test  \n",
      "0                        NaN  \n",
      "1                   negative  \n",
      "2                        NaN  \n",
      "3                        NaN  \n",
      "4                        NaN  \n",
      "...                      ...  \n",
      "5639                     NaN  \n",
      "5640                     NaN  \n",
      "5641                     NaN  \n",
      "5642                     NaN  \n",
      "5643                     NaN  \n",
      "\n",
      "[5644 rows x 28 columns]>\n",
      "(5644,)\n"
     ]
    }
   ],
   "source": [
    "features = df1.drop(['Patient ID', 'SARS-Cov-2 exam result', 'Basophils', 'Patient addmited to regular ward (1=yes, 0=no)', 'Patient addmited to semi-intensive unit (1=yes, 0=no)', 'Patient addmited to intensive care unit (1=yes, 0=no)', 'Hematocrit', 'Platelets', 'Mean platelet volume ', 'Lymphocytes', 'Influenza B, rapid test'], axis=1)\n",
    "print(features.head)\n",
    "targets = df['SARS-Cov-2 exam result']\n",
    "print(targets.shape)"
   ]
  },
  {
   "cell_type": "markdown",
   "id": "6142fed9",
   "metadata": {},
   "source": [
    "# preprocessing"
   ]
  },
  {
   "cell_type": "code",
   "execution_count": 8,
   "id": "743ee90f",
   "metadata": {},
   "outputs": [
    {
     "name": "stdout",
     "output_type": "stream",
     "text": [
      "False\n"
     ]
    }
   ],
   "source": [
    "#replace the values nan by 0\n",
    "features = features.fillna(0)\n",
    "print(features.isnull().values.any())"
   ]
  },
  {
   "cell_type": "code",
   "execution_count": 9,
   "id": "05132f85",
   "metadata": {},
   "outputs": [
    {
     "name": "stdout",
     "output_type": "stream",
     "text": [
      "[[ 13.  47. 108. ...  99.  61.  19.]\n",
      " [ 17.  46. 114. ... 108.  74.  11.]\n",
      " [  8.  47. 108. ...  99.  61.  19.]\n",
      " ...\n",
      " [  4.  47. 108. ...  99.  61.  19.]\n",
      " [ 10.  47. 108. ...  99.  61.  19.]\n",
      " [ 19.  56. 141. ... 101.  82.  16.]]\n",
      "[0 0 0 ... 0 0 1]\n"
     ]
    }
   ],
   "source": [
    "#encoding\n",
    "from sklearn.preprocessing import OrdinalEncoder, LabelEncoder\n",
    "from sklearn.compose import make_column_transformer, make_column_selector\n",
    "\n",
    "encoderOrdinal = OrdinalEncoder()\n",
    "\n",
    "transformColumn = make_column_transformer((encoderOrdinal, \n",
    "                                   make_column_selector(dtype_include=np.number)))\n",
    "features = transformColumn.fit_transform(features)\n",
    "\n",
    "encoderLabel = LabelEncoder()\n",
    "targets = encoderLabel.fit_transform(targets)\n",
    "print(features)\n",
    "print(targets)"
   ]
  },
  {
   "cell_type": "code",
   "execution_count": 10,
   "id": "66e9443e",
   "metadata": {},
   "outputs": [
    {
     "name": "stdout",
     "output_type": "stream",
     "text": [
      "[ True  True  True  True  True  True  True  True  True  True]\n"
     ]
    }
   ],
   "source": [
    "from sklearn.feature_selection import SelectKBest, chi2\n",
    "chi2(features, targets)\n",
    "select = SelectKBest(chi2, k=10)\n",
    "select.fit_transform(features, targets)\n",
    "print(select.get_support())"
   ]
  },
  {
   "cell_type": "code",
   "execution_count": 11,
   "id": "f062c9d3",
   "metadata": {},
   "outputs": [
    {
     "name": "stdout",
     "output_type": "stream",
     "text": [
      "feature= (array([[ 14.,  47., 108., ...,  99.,  61.,  19.],\n",
      "       [ 19.,  47., 108., ...,  99.,  61.,  19.],\n",
      "       [  3.,  47., 108., ...,  99.,  61.,  19.],\n",
      "       ...,\n",
      "       [  7.,  47., 108., ...,  99.,  61.,  19.],\n",
      "       [  2.,  47., 108., ...,  99.,  61.,  19.],\n",
      "       [  7.,  47., 108., ...,  99.,  61.,  19.]]), array([[ 10.,  47., 108., ...,  99.,  61.,  19.],\n",
      "       [ 10.,  47., 108., ...,  99.,  61.,  19.],\n",
      "       [ 13.,  47., 108., ...,  99.,  61.,  19.],\n",
      "       ...,\n",
      "       [  6.,  47., 108., ...,  99.,  61.,  19.],\n",
      "       [  1.,  47., 108., ...,  99.,  61.,  19.],\n",
      "       [  2.,  47., 108., ...,  99.,  61.,  19.]]))\n",
      "targets = (array([0, 1, 0, ..., 0, 0, 0]), array([0, 0, 0, ..., 0, 0, 0]))\n"
     ]
    }
   ],
   "source": [
    "#train test split\n",
    "from sklearn.model_selection import train_test_split, learning_curve\n",
    "fea_train, fea_test, tar_train, tar_test = train_test_split(features, targets, test_size=.2)\n",
    "print(f'feature= {fea_train, fea_test}')\n",
    "print(f'targets = {tar_train, tar_test}')"
   ]
  },
  {
   "cell_type": "markdown",
   "id": "84ce03f9",
   "metadata": {},
   "source": [
    "# modeling"
   ]
  },
  {
   "cell_type": "code",
   "execution_count": 12,
   "id": "4683117e",
   "metadata": {},
   "outputs": [
    {
     "name": "stdout",
     "output_type": "stream",
     "text": [
      "0.9052258635961028\n"
     ]
    }
   ],
   "source": [
    "#standardscaler and make_pipeline\n",
    "from sklearn.preprocessing import StandardScaler\n",
    "from sklearn.pipeline import make_pipeline\n",
    "from sklearn.svm import SVC\n",
    "\n",
    "#create variable for standardscaler\n",
    "scaler = StandardScaler()\n",
    "model = make_pipeline(scaler,\n",
    "                      SVC())\n",
    "model.fit(fea_train, tar_train)\n",
    "evaluate = model.score(fea_test, tar_test)\n",
    "print(evaluate)"
   ]
  },
  {
   "cell_type": "code",
   "execution_count": 13,
   "id": "0ad69bb3",
   "metadata": {},
   "outputs": [
    {
     "data": {
      "text/plain": [
       "<matplotlib.legend.Legend at 0x7fdcf1d1c850>"
      ]
     },
     "execution_count": 13,
     "metadata": {},
     "output_type": "execute_result"
    },
    {
     "data": {
      "image/png": "[encoded data removed]",
      "text/plain": [
       "<Figure size 432x288 with 1 Axes>"
      ]
     },
     "metadata": {
      "needs_background": "light"
     },
     "output_type": "display_data"
    }
   ],
   "source": [
    "#leaningcurve\n",
    "nbr, val_score, train_score = learning_curve(model, fea_train, tar_train, train_sizes=np.linspace(.2, 1., 1) )\n",
    "plt.scatter(nbr, val_score.mean(), label='validation')\n",
    "plt.scatter(nbr, train_score.mean(), label='train')\n",
    "plt.legend()"
   ]
  },
  {
   "cell_type": "code",
   "execution_count": 14,
   "id": "1ada2246",
   "metadata": {},
   "outputs": [
    {
     "name": "stdout",
     "output_type": "stream",
     "text": [
      "[0 0 0 0 0 0 0 0 0 0] [0 0 0 0 1 0 0 0 0 0]\n"
     ]
    }
   ],
   "source": [
    "#prediction\n",
    "prediction = model.predict(fea_test[0:10])\n",
    "print(prediction, tar_test[0:10])"
   ]
  },
  {
   "cell_type": "markdown",
   "id": "1526f03c",
   "metadata": {},
   "source": [
    "# optimisation"
   ]
  },
  {
   "cell_type": "code",
   "execution_count": 25,
   "id": "6dace935",
   "metadata": {},
   "outputs": [
    {
     "name": "stdout",
     "output_type": "stream",
     "text": [
      "Pipeline(steps=[('standardscaler', StandardScaler()), ('svc', SVC())])\n",
      "dict_keys(['memory', 'steps', 'verbose', 'standardscaler', 'svc', 'standardscaler__copy', 'standardscaler__with_mean', 'standardscaler__with_std', 'svc__C', 'svc__break_ties', 'svc__cache_size', 'svc__class_weight', 'svc__coef0', 'svc__decision_function_shape', 'svc__degree', 'svc__gamma', 'svc__kernel', 'svc__max_iter', 'svc__probability', 'svc__random_state', 'svc__shrinking', 'svc__tol', 'svc__verbose'])\n"
     ]
    }
   ],
   "source": [
    "print(model)\n",
    "params = {\n",
    "    'svc__gamma': [1e-1, 1e-2],\n",
    "    'svc__C': [1,10, 100, 1000],\n",
    "}\n",
    "print(model.get_params().keys())"
   ]
  },
  {
   "cell_type": "code",
   "execution_count": 26,
   "id": "a9826404",
   "metadata": {},
   "outputs": [
    {
     "name": "stdout",
     "output_type": "stream",
     "text": [
      "{'svc__C': 100, 'svc__gamma': 0.01}\n",
      "[0 0 0 ... 0 0 0]\n"
     ]
    }
   ],
   "source": [
    "from sklearn.model_selection import GridSearchCV\n",
    "grid = GridSearchCV(model, params, scoring='recall', cv=4)\n",
    "grid.fit(fea_train, tar_train)\n",
    "print(grid.best_params_)\n",
    "predict = grid.predict(fea_test)\n",
    "print(predict)"
   ]
  },
  {
   "cell_type": "code",
   "execution_count": 27,
   "id": "aa72e26f",
   "metadata": {},
   "outputs": [
    {
     "name": "stdout",
     "output_type": "stream",
     "text": [
      "[[1009   12]\n",
      " [ 102    6]]\n",
      "              precision    recall  f1-score   support\n",
      "\n",
      "           0       0.91      0.99      0.95      1021\n",
      "           1       0.33      0.06      0.10       108\n",
      "\n",
      "    accuracy                           0.90      1129\n",
      "   macro avg       0.62      0.52      0.52      1129\n",
      "weighted avg       0.85      0.90      0.87      1129\n",
      "\n"
     ]
    }
   ],
   "source": [
    "from sklearn.metrics import confusion_matrix, classification_report, f1_score\n",
    "print(confusion_matrix(tar_test, predict))\n",
    "print(classification_report(tar_test, predict))"
   ]
  },
  {
   "cell_type": "code",
   "execution_count": null,
   "id": "a58e67a4",
   "metadata": {},
   "outputs": [],
   "source": []
  }
 ],
 "metadata": {
  "kernelspec": {
   "display_name": "Python 3 (ipykernel)",
   "language": "python",
   "name": "python3"
  },
  "language_info": {
   "codemirror_mode": {
    "name": "ipython",
    "version": 3
   },
   "file_extension": ".py",
   "mimetype": "text/x-python",
   "name": "python",
   "nbconvert_exporter": "python",
   "pygments_lexer": "ipython3",
   "version": "3.9.5"
  }
 },
 "nbformat": 4,
 "nbformat_minor": 5
}
